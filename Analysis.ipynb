{
 "cells": [
  {
   "cell_type": "code",
   "execution_count": 1,
   "metadata": {},
   "outputs": [],
   "source": [
    "import pandas as pd\n",
    "import numpy as np\n",
    "import matplotlib.pyplot as plt\n",
    "import seaborn as sns"
   ]
  },
  {
   "cell_type": "code",
   "execution_count": 2,
   "metadata": {},
   "outputs": [],
   "source": [
    "from sklearn.model_selection import train_test_split, cross_val_score\n",
    "\n",
    "from sklearn.feature_extraction.text import CountVectorizer, TfidfVectorizer\n",
    "from nltk import wordpunct_tokenize, word_tokenize, sent_tokenize\n",
    "from nltk.corpus import stopwords\n",
    "from nltk.stem import PorterStemmer\n",
    "from nltk.stem import WordNetLemmatizer"
   ]
  },
  {
   "cell_type": "code",
   "execution_count": 3,
   "metadata": {},
   "outputs": [
    {
     "data": {
      "text/html": [
       "<div>\n",
       "<style scoped>\n",
       "    .dataframe tbody tr th:only-of-type {\n",
       "        vertical-align: middle;\n",
       "    }\n",
       "\n",
       "    .dataframe tbody tr th {\n",
       "        vertical-align: top;\n",
       "    }\n",
       "\n",
       "    .dataframe thead th {\n",
       "        text-align: right;\n",
       "    }\n",
       "</style>\n",
       "<table border=\"1\" class=\"dataframe\">\n",
       "  <thead>\n",
       "    <tr style=\"text-align: right;\">\n",
       "      <th></th>\n",
       "      <th>Unnamed: 0</th>\n",
       "      <th>user</th>\n",
       "      <th>date</th>\n",
       "      <th>text</th>\n",
       "      <th>favorite_count</th>\n",
       "      <th>label</th>\n",
       "    </tr>\n",
       "  </thead>\n",
       "  <tbody>\n",
       "    <tr>\n",
       "      <th>0</th>\n",
       "      <td>98</td>\n",
       "      <td>TheTrueAggie</td>\n",
       "      <td>Mon Dec 02 19:37:02 +0000 2019</td>\n",
       "      <td>She doesn't care about the use of tithing or e...</td>\n",
       "      <td>62</td>\n",
       "      <td>neg</td>\n",
       "    </tr>\n",
       "    <tr>\n",
       "      <th>1</th>\n",
       "      <td>49</td>\n",
       "      <td>JReubenCIark</td>\n",
       "      <td>Tue Dec 03 09:22:54 +0000 2019</td>\n",
       "      <td>LMAO Merry Christmas from the self-parodying p...</td>\n",
       "      <td>52</td>\n",
       "      <td>neg</td>\n",
       "    </tr>\n",
       "    <tr>\n",
       "      <th>2</th>\n",
       "      <td>22</td>\n",
       "      <td>Matthew_7_14</td>\n",
       "      <td>Tue Dec 03 17:42:56 +0000 2019</td>\n",
       "      <td>Got the text from #LightTheWorld to go donate ...</td>\n",
       "      <td>45</td>\n",
       "      <td>pos</td>\n",
       "    </tr>\n",
       "    <tr>\n",
       "      <th>3</th>\n",
       "      <td>60</td>\n",
       "      <td>JPBellum</td>\n",
       "      <td>Tue Dec 03 05:14:13 +0000 2019</td>\n",
       "      <td>Only 2018 #DezNat kids will remember. https://...</td>\n",
       "      <td>40</td>\n",
       "      <td>pos</td>\n",
       "    </tr>\n",
       "    <tr>\n",
       "      <th>4</th>\n",
       "      <td>7</td>\n",
       "      <td>JPBellum</td>\n",
       "      <td>Tue Dec 03 21:42:41 +0000 2019</td>\n",
       "      <td>Is there anything you now own that wasn’t alre...</td>\n",
       "      <td>28</td>\n",
       "      <td>pos</td>\n",
       "    </tr>\n",
       "  </tbody>\n",
       "</table>\n",
       "</div>"
      ],
      "text/plain": [
       "   Unnamed: 0          user                            date  \\\n",
       "0          98  TheTrueAggie  Mon Dec 02 19:37:02 +0000 2019   \n",
       "1          49  JReubenCIark  Tue Dec 03 09:22:54 +0000 2019   \n",
       "2          22  Matthew_7_14  Tue Dec 03 17:42:56 +0000 2019   \n",
       "3          60      JPBellum  Tue Dec 03 05:14:13 +0000 2019   \n",
       "4           7      JPBellum  Tue Dec 03 21:42:41 +0000 2019   \n",
       "\n",
       "                                                text  favorite_count label  \n",
       "0  She doesn't care about the use of tithing or e...              62   neg  \n",
       "1  LMAO Merry Christmas from the self-parodying p...              52   neg  \n",
       "2  Got the text from #LightTheWorld to go donate ...              45   pos  \n",
       "3  Only 2018 #DezNat kids will remember. https://...              40   pos  \n",
       "4  Is there anything you now own that wasn’t alre...              28   pos  "
      ]
     },
     "execution_count": 3,
     "metadata": {},
     "output_type": "execute_result"
    }
   ],
   "source": [
    "df = pd.read_csv(\"tweets.csv\")\n",
    "df.head()"
   ]
  },
  {
   "cell_type": "code",
   "execution_count": 4,
   "metadata": {},
   "outputs": [
    {
     "data": {
      "text/plain": [
       "<matplotlib.axes._subplots.AxesSubplot at 0x179d9a73898>"
      ]
     },
     "execution_count": 4,
     "metadata": {},
     "output_type": "execute_result"
    },
    {
     "data": {
      "image/png": "[encoded data removed]",
      "text/plain": [
       "<Figure size 432x288 with 1 Axes>"
      ]
     },
     "metadata": {
      "needs_background": "light"
     },
     "output_type": "display_data"
    }
   ],
   "source": [
    "# EDA\n",
    "sns.distplot(df['favorite_count'])"
   ]
  },
  {
   "cell_type": "code",
   "execution_count": 5,
   "metadata": {},
   "outputs": [
    {
     "data": {
      "text/plain": [
       "pos    61\n",
       "neg    39\n",
       "Name: label, dtype: int64"
      ]
     },
     "execution_count": 5,
     "metadata": {},
     "output_type": "execute_result"
    }
   ],
   "source": [
    "df['label'].value_counts()"
   ]
  },
  {
   "cell_type": "code",
   "execution_count": 6,
   "metadata": {},
   "outputs": [],
   "source": [
    "# train test split\n",
    "x = df['text']\n",
    "y = df['label']\n",
    "X_train, X_test, y_train, y_test = train_test_split(x, y, random_state=801, test_size=.33, stratify=y)"
   ]
  },
  {
   "cell_type": "code",
   "execution_count": 7,
   "metadata": {},
   "outputs": [],
   "source": [
    "from nltk import wordpunct_tokenize, word_tokenize, sent_tokenize\n",
    "from nltk.corpus import stopwords"
   ]
  },
  {
   "cell_type": "code",
   "execution_count": 8,
   "metadata": {},
   "outputs": [],
   "source": [
    "ps = PorterStemmer()\n",
    "wn = WordNetLemmatizer()\n",
    "\n",
    "sw = set(stopwords.words('english'))\n",
    "\n",
    "def text_token(x):\n",
    "    x = x.lower()\n",
    "    tokens = wordpunct_tokenize(x)\n",
    "    tokens = [tok for tok in tokens if tok.isalnum()]\n",
    "    tokens = [tok for tok in tokens if tok not in sw]\n",
    "    tokens = [wn.lemmatize(tok) for tok in tokens]\n",
    "    return(tokens)"
   ]
  },
  {
   "cell_type": "code",
   "execution_count": 9,
   "metadata": {},
   "outputs": [],
   "source": [
    "# remove stop words\n",
    "X_train['tokens'] = X_train.apply(text_token)\n",
    "X_train['clean'] = X_train['tokens'].apply(lambda x: \" \".join(x))\n",
    "\n",
    "X_test['tokens'] = X_test.apply(text_token)\n",
    "X_test['clean'] = X_test['tokens'].apply(lambda x: \" \".join(x))"
   ]
  },
  {
   "cell_type": "code",
   "execution_count": 10,
   "metadata": {},
   "outputs": [
    {
     "data": {
      "text/plain": [
       "48    reject living prophet reason reject christ dez...\n",
       "70    rt sisterbellum alpha omega beginning ending s...\n",
       "66    rt thetrueaggie care use tithing even poor peo...\n",
       "89    rt jpbellum 2018 deznat kid remember http co s...\n",
       "30    folk bit protective pew enjoy bit satire dezna...\n",
       "Name: text, dtype: object"
      ]
     },
     "execution_count": 10,
     "metadata": {},
     "output_type": "execute_result"
    }
   ],
   "source": [
    "X_train['clean'].head()"
   ]
  },
  {
   "cell_type": "code",
   "execution_count": 11,
   "metadata": {},
   "outputs": [
    {
     "data": {
      "text/plain": [
       "['reject living prophet reason reject christ deznat lighttheworld',\n",
       " 'rt sisterbellum alpha omega beginning ending saith lord revelation 1 8 churchofjesuschrist lightth',\n",
       " 'rt thetrueaggie care use tithing even poor people commie hate church deznat http',\n",
       " 'rt jpbellum 2018 deznat kid remember http co stn30nr5x1',\n",
       " 'folk bit protective pew enjoy bit satire deznat churchofjesuschrist http co 6uoxv3klsj',\n",
       " 'repentance joyful process remember god really care care http co chqf89wlel',\n",
       " 'rt wardpreacher folk bit protective pew enjoy bit satire deznat churchofjesuschrist http co 6uoxv3',\n",
       " 'place heaven touch earth temple sacred important exquisitely furnishing http co j8qhono6rb',\n",
       " 'oaksdallinh thank elder oak fearless faithful apostle ambassador savior jesus chri http co xjbizmgrfp',\n",
       " 'happy birthday hollandjeffreyr churchofjesuschrist deznat twitterstake http co aercfrwjfn',\n",
       " 'rt thedmt1232 finishing college course today reason thought block deznat list read skil',\n",
       " 'rt apostolickeys one thing notice strong ocean breaker crashing shore heralding another oncoming storm quit',\n",
       " 'rt jreubenciark lmao merry christmas self parodying progmos bcc guess good give thing away poor people w',\n",
       " 'rt arisethresh inb4 mormon feminist defends priestcraft culturally legitimate expression priestly power latter day sa',\n",
       " 'lighttheworld day 2 number patriarch able look example strength faithf http co a3h3awatad',\n",
       " 'rt thedmt1232 lighttheworld day 2 number patriarch able look example strength faith',\n",
       " 'person receptor god love dysfunctional god influence life minimized abi http co pdn0f6pa3m',\n",
       " 'backfromthat nancylclay asked deznat represent look appears http co xzjuwwcjqq',\n",
       " 'well curveball ldzion deznat http co fakcewj3n1',\n",
       " 'actually mental gymnastics antimos use convince deznat churchofjesuschrist ldzion http co xm5wvoqddn',\n",
       " 'grind baptism truly make mission missionary change heart http co gzdc6quzst',\n",
       " 'wonderful woman deznat know http co mpujpgg3tk',\n",
       " 'anything already handed would surprised pleased know yo http co hc9sbtmnu6',\n",
       " 'exhort sake house israel sake zion build live http co yq8yvbo80n',\n",
       " 'dc 139 1 new modern edition oh hearken ye want prevent illusion mind full belief stop http co jri88ni3mj',\n",
       " 'got text lighttheworld go donate blood took early lunch deznat http co at7jopwuv1',\n",
       " 'god willing reveal even child earth abide law http co kvid2a4cng',\n",
       " 'ya know apparently wishing someone die violation twitter true agenda deznat http co w4mmcabrf',\n",
       " 'rt jpbellum 2018 deznat kid remember http co stn30nr5x1',\n",
       " 'deznat fight bal',\n",
       " 'repentance like soap wash sin away ground dirt may take strong detergent discipline get http co 0sxnp7aijj',\n",
       " 'learned deznat like discovering bunch alt right santa worshiper unbeliev',\n",
       " 'rt thedmt1232 lighttheworld day 2 number patriarch able look example strength faith',\n",
       " 'issue progressive mormon one believe civilian access firearm http co b4idjafw2j',\n",
       " 'dear deznat fight ball p wont read much better letter welcome http co psr8xjqgch',\n",
       " 'healthier amp productive amp satisfying approach life looking way failing meet http co dclvmwyl5u',\n",
       " 'antimos would allow u befriend invite pecan pie cheesecake kirkland sp http co q0m9agp4vm',\n",
       " 'rt latterdaydoofus happiness without service greater service convert home divin',\n",
       " 'rt siblingsinzion learned deznat like discovering bunch alt right santa worshiper unbeliev',\n",
       " 'please take moment important poll deznat http co vhqmgz3pjv',\n",
       " 'oh shit lds latterdaysaints mormon ldschurch exmo deznat http co 1gowfvvvlg',\n",
       " 'provo still punk rock leader say yes dress counter culture h calvinjburke http co jf9g8l41ti',\n",
       " 'seems major sex abuse controversy regarding jworg maybe deznat something thei http co cm0itjw8jr',\n",
       " 'progmos think testimony unimportant irrelevant personal part public life http co bls2xmy8ux',\n",
       " 'ofsifter magjoy12 man going say deznat stormtrooper heart hope yet finn',\n",
       " 'ldschurch doctrine actually lighttheworld deznat deznats http co kfzzxupnqw',\n",
       " 'keatonbrumley would baptism could would cheering whole deznat crew would',\n",
       " 'christ child nativity story http co npdu83ctd4 mormon mormonism twitterstake lds deznat churchofjesuschrist',\n",
       " 'rt sisterbellum alpha omega beginning ending saith lord revelation 1 8 churchofjesuschrist lightth',\n",
       " 'rt got text lighttheworld go donate blood took early lunch deznat http co at7jopwuv1',\n",
       " 'rt wardpreacher folk bit protective pew enjoy bit satire deznat churchofjesuschrist http co 6uoxv3',\n",
       " 'siblingsinzion nah learn deznat takeaway matter even clos',\n",
       " 'finishing college course today reason thought block deznat list read http co zcchrdefsx',\n",
       " '17 god sent son world condemn world world might http co sc7d10mnvu',\n",
       " 'rt kankokage deznat reply guide doubt gt let talk heartbroken gt let talk understand',\n",
       " 'janessataylor20 theshizzy777 zachbrimhall neil10790465 stjohn724 love mormonism chang http co ry5jjb9e0g',\n",
       " 'scotthoward ofsifter magjoy12 almost like realize maggie already established closeness http co mzaawalnro',\n",
       " 'rt mormonius2 janessataylor20 theshizzy777 zachbrimhall neil10790465 stjohn724 love mormonism changed w',\n",
       " 'rt thedmt1232 lighttheworld day 2 number patriarch able look example strength faith',\n",
       " 'lifestyle bydnw deznat http co qlp4nmwbzf',\n",
       " '2018 deznat kid remember http co stn30nr5x1',\n",
       " 'rt apostolickeys even difficult time member armed righteousness many thing love home ev',\n",
       " 'rt sisterbellum alpha omega beginning ending saith lord revelation 1 8 churchofjesuschrist lightth',\n",
       " 'northsouthwick sventhelost pauljohnstun churchnewsroom deznat never win',\n",
       " 'deznat christlike push back world oaksdallinh admonishes u http co v48lmiymyq',\n",
       " 'start father interview oldest watched first vision discussed mentioned various http co vdmtkj1vkz',\n",
       " 'watching prophecy unfold eye wwg1wga maga kag deznat http co itwjt8behd via youtub']"
      ]
     },
     "execution_count": 11,
     "metadata": {},
     "output_type": "execute_result"
    }
   ],
   "source": [
    "# stemming\n",
    "stemmed = [ps.stem(word) for word in X_train['clean']]\n",
    "stemmed"
   ]
  },
  {
   "cell_type": "code",
   "execution_count": 12,
   "metadata": {},
   "outputs": [
    {
     "data": {
      "text/plain": [
       "['reject living prophet reason reject christ deznat lighttheworld',\n",
       " 'rt sisterbellum alpha omega beginning ending saith lord revelation 1 8 churchofjesuschrist lightthe',\n",
       " 'rt thetrueaggie care use tithing even poor people commie hate church deznat http',\n",
       " 'rt jpbellum 2018 deznat kid remember http co stn30nr5x1',\n",
       " 'folk bit protective pew enjoy bit satire deznat churchofjesuschrist http co 6uoxv3klsj',\n",
       " 'repentance joyful process remember god really care care http co chqf89wlel',\n",
       " 'rt wardpreacher folk bit protective pew enjoy bit satire deznat churchofjesuschrist http co 6uoxv3',\n",
       " 'place heaven touch earth temple sacred important exquisitely furnishing http co j8qhono6rb',\n",
       " 'oaksdallinh thank elder oak fearless faithful apostle ambassador savior jesus chri http co xjbizmgrfp',\n",
       " 'happy birthday hollandjeffreyr churchofjesuschrist deznat twitterstake http co aercfrwjfn',\n",
       " 'rt thedmt1232 finishing college course today reason thought block deznat list read skilled',\n",
       " 'rt apostolickeys one thing notice strong ocean breaker crashing shore heralding another oncoming storm quite',\n",
       " 'rt jreubenciark lmao merry christmas self parodying progmos bcc guess good give thing away poor people w',\n",
       " 'rt arisethresh inb4 mormon feminist defends priestcraft culturally legitimate expression priestly power latter day sa',\n",
       " 'lighttheworld day 2 number patriarch able look example strength faithf http co a3h3awatad',\n",
       " 'rt thedmt1232 lighttheworld day 2 number patriarch able look example strength faithfulness',\n",
       " 'person receptor god love dysfunctional god influence life minimized abi http co pdn0f6pa3m',\n",
       " 'backfromthat nancylclay asked deznat represent look appears http co xzjuwwcjqq',\n",
       " 'well curveball ldzion deznat http co fakcewj3n1',\n",
       " 'actually mental gymnastics antimos use convince deznat churchofjesuschrist ldzion http co xm5wvoqddn',\n",
       " 'grind baptism truly make mission missionary change heart http co gzdc6quzst',\n",
       " 'wonderful woman deznat know http co mpujpgg3tk',\n",
       " 'anything already handed would surprised pleased know yo http co hc9sbtmnu6',\n",
       " 'exhort sake house israel sake zion build live http co yq8yvbo80n',\n",
       " 'dc 139 1 new modern edition oh hearken ye want prevent illusion mind full belief stop http co jri88ni3mj',\n",
       " 'got text lighttheworld go donate blood took early lunch deznat http co at7jopwuv1',\n",
       " 'god willing reveal even child earth abide law http co kvid2a4cng',\n",
       " 'ya know apparently wishing someone die violation twitter true agenda deznat http co w4mmcabrfe',\n",
       " 'rt jpbellum 2018 deznat kid remember http co stn30nr5x1',\n",
       " 'deznat fight ball',\n",
       " 'repentance like soap wash sin away ground dirt may take strong detergent discipline get http co 0sxnp7aijj',\n",
       " 'learned deznat like discovering bunch alt right santa worshiper unbelievable',\n",
       " 'rt thedmt1232 lighttheworld day 2 number patriarch able look example strength faithfulness',\n",
       " 'issue progressive mormon one believe civilian access firearm http co b4idjafw2j',\n",
       " 'dear deznat fight ball p wont read much better letter welcome http co psr8xjqgch',\n",
       " 'healthier amp productive amp satisfying approach life looking way failing meet http co dclvmwyl5u',\n",
       " 'antimos would allow u befriend invite pecan pie cheesecake kirkland sp http co q0m9agp4vm',\n",
       " 'rt latterdaydoofus happiness without service greater service convert home divin',\n",
       " 'rt siblingsinzion learned deznat like discovering bunch alt right santa worshiper unbelievable',\n",
       " 'please take moment important poll deznat http co vhqmgz3pjv',\n",
       " 'oh shit lds latterdaysaints mormon ldschurch exmo deznat http co 1gowfvvvlg',\n",
       " 'provo still punk rock leader say yes dress counter culture h calvinjburke http co jf9g8l41ty',\n",
       " 'seems major sex abuse controversy regarding jworg maybe deznat something thei http co cm0itjw8jr',\n",
       " 'progmos think testimony unimportant irrelevant personal part public life http co bls2xmy8ux',\n",
       " 'ofsifter magjoy12 man going say deznat stormtrooper heart hope yet finn',\n",
       " 'ldschurch doctrine actually lighttheworld deznat deznats http co kfzzxupnqw',\n",
       " 'keatonbrumley would baptism could would cheering whole deznat crew would',\n",
       " 'christ child nativity story http co npdu83ctd4 mormon mormonism twitterstake lds deznat churchofjesuschrist',\n",
       " 'rt sisterbellum alpha omega beginning ending saith lord revelation 1 8 churchofjesuschrist lightthe',\n",
       " 'rt got text lighttheworld go donate blood took early lunch deznat http co at7jopwuv1',\n",
       " 'rt wardpreacher folk bit protective pew enjoy bit satire deznat churchofjesuschrist http co 6uoxv3',\n",
       " 'siblingsinzion nah learn deznat takeaway matter even close',\n",
       " 'finishing college course today reason thought block deznat list read http co zcchrdefsx',\n",
       " '17 god sent son world condemn world world might http co sc7d10mnvu',\n",
       " 'rt kankokage deznat reply guide doubt gt let talk heartbroken gt let talk understand',\n",
       " 'janessataylor20 theshizzy777 zachbrimhall neil10790465 stjohn724 love mormonism chang http co ry5jjb9e0g',\n",
       " 'scotthoward ofsifter magjoy12 almost like realize maggie already established closeness http co mzaawalnro',\n",
       " 'rt mormonius2 janessataylor20 theshizzy777 zachbrimhall neil10790465 stjohn724 love mormonism changed w',\n",
       " 'rt thedmt1232 lighttheworld day 2 number patriarch able look example strength faithfulness',\n",
       " 'lifestyle bydnw deznat http co qlp4nmwbzf',\n",
       " '2018 deznat kid remember http co stn30nr5x1',\n",
       " 'rt apostolickeys even difficult time member armed righteousness many thing love home ev',\n",
       " 'rt sisterbellum alpha omega beginning ending saith lord revelation 1 8 churchofjesuschrist lightthe',\n",
       " 'northsouthwick sventhelost pauljohnstun churchnewsroom deznat never win',\n",
       " 'deznat christlike push back world oaksdallinh admonishes u http co v48lmiymyq',\n",
       " 'start father interview oldest watched first vision discussed mentioned various http co vdmtkj1vkz',\n",
       " 'watching prophecy unfold eye wwg1wga maga kag deznat http co itwjt8behd via youtube']"
      ]
     },
     "execution_count": 12,
     "metadata": {},
     "output_type": "execute_result"
    }
   ],
   "source": [
    "# lemmitization\n",
    "lemmed = [wn.lemmatize(word) for word in X_train['clean']]\n",
    "lemmed"
   ]
  },
  {
   "cell_type": "code",
   "execution_count": 13,
   "metadata": {},
   "outputs": [],
   "source": [
    "vec = TfidfVectorizer()\n",
    "X_counts = vec.fit_transform(X_train['clean'])\n",
    "df_tfidf = pd.DataFrame(X_counts.toarray(), columns=vec.get_feature_names())\n",
    "df_tfidf.head()\n",
    "\n",
    "X_test_vec = vec.transform(X_test['clean'])\n",
    "X_train_vec = vec.transform(X_train['clean'])\n",
    "\n",
    "y_train = pd.get_dummies(y_train)['pos']\n",
    "y_test = pd.get_dummies(y_test)['pos']"
   ]
  },
  {
   "cell_type": "code",
   "execution_count": 14,
   "metadata": {},
   "outputs": [],
   "source": [
    "from nltk.sentiment.vader import SentimentIntensityAnalyzer\n",
    "sid = SentimentIntensityAnalyzer()\n",
    "\n",
    "df['score'] = df['text'].apply(lambda x: sid.polarity_scores(x)['compound'])\n",
    "\n",
    "# explain compound polarity scores"
   ]
  },
  {
   "cell_type": "code",
   "execution_count": 15,
   "metadata": {},
   "outputs": [],
   "source": [
    "def make_label(x):\n",
    "    if x >= 0:\n",
    "        label = 'pos'\n",
    "    #elif x == 0:\n",
    "    #    label = 'neutral'\n",
    "    else:\n",
    "        label = 'neg'\n",
    "    return(label)"
   ]
  },
  {
   "cell_type": "code",
   "execution_count": 16,
   "metadata": {},
   "outputs": [],
   "source": [
    "df['sent_label'] = df['score'].apply(make_label)"
   ]
  },
  {
   "cell_type": "code",
   "execution_count": 17,
   "metadata": {},
   "outputs": [
    {
     "data": {
      "text/html": [
       "<div>\n",
       "<style scoped>\n",
       "    .dataframe tbody tr th:only-of-type {\n",
       "        vertical-align: middle;\n",
       "    }\n",
       "\n",
       "    .dataframe tbody tr th {\n",
       "        vertical-align: top;\n",
       "    }\n",
       "\n",
       "    .dataframe thead th {\n",
       "        text-align: right;\n",
       "    }\n",
       "</style>\n",
       "<table border=\"1\" class=\"dataframe\">\n",
       "  <thead>\n",
       "    <tr style=\"text-align: right;\">\n",
       "      <th>sent_label</th>\n",
       "      <th>neg</th>\n",
       "      <th>pos</th>\n",
       "    </tr>\n",
       "    <tr>\n",
       "      <th>label</th>\n",
       "      <th></th>\n",
       "      <th></th>\n",
       "    </tr>\n",
       "  </thead>\n",
       "  <tbody>\n",
       "    <tr>\n",
       "      <th>neg</th>\n",
       "      <td>0.487179</td>\n",
       "      <td>0.512821</td>\n",
       "    </tr>\n",
       "    <tr>\n",
       "      <th>pos</th>\n",
       "      <td>0.032787</td>\n",
       "      <td>0.967213</td>\n",
       "    </tr>\n",
       "  </tbody>\n",
       "</table>\n",
       "</div>"
      ],
      "text/plain": [
       "sent_label       neg       pos\n",
       "label                         \n",
       "neg         0.487179  0.512821\n",
       "pos         0.032787  0.967213"
      ]
     },
     "execution_count": 17,
     "metadata": {},
     "output_type": "execute_result"
    }
   ],
   "source": [
    "pd.crosstab(df['label'], df['sent_label']).apply(lambda x: x/x.sum(), axis=1)"
   ]
  },
  {
   "cell_type": "code",
   "execution_count": 19,
   "metadata": {},
   "outputs": [
    {
     "data": {
      "text/plain": [
       "0.7878787878787878"
      ]
     },
     "execution_count": 19,
     "metadata": {},
     "output_type": "execute_result"
    }
   ],
   "source": [
    "from sklearn.svm import SVC\n",
    "from sklearn.metrics import accuracy_score\n",
    "\n",
    "svc = SVC(kernel='linear')\n",
    "svc.fit(X_train_vec, y_train)\n",
    "yhatsvm = svc.predict(X_test_vec)\n",
    "acc_svm = accuracy_score(yhatsvm, y_test)\n",
    "acc_svm"
   ]
  },
  {
   "cell_type": "code",
   "execution_count": 20,
   "metadata": {},
   "outputs": [
    {
     "data": {
      "text/plain": [
       "0.5757575757575758"
      ]
     },
     "execution_count": 20,
     "metadata": {},
     "output_type": "execute_result"
    }
   ],
   "source": [
    "from sklearn.tree import DecisionTreeClassifier\n",
    "from sklearn.ensemble import BaggingClassifier, RandomForestClassifier\n",
    "\n",
    "clf = DecisionTreeClassifier()\n",
    "clf.fit(X_train_vec, y_train)\n",
    "yhatdt = clf.predict(X_test_vec)\n",
    "acc_dt = accuracy_score(yhatdt, y_test)\n",
    "acc_dt"
   ]
  },
  {
   "cell_type": "code",
   "execution_count": 21,
   "metadata": {},
   "outputs": [
    {
     "data": {
      "text/html": [
       "<div>\n",
       "<style scoped>\n",
       "    .dataframe tbody tr th:only-of-type {\n",
       "        vertical-align: middle;\n",
       "    }\n",
       "\n",
       "    .dataframe tbody tr th {\n",
       "        vertical-align: top;\n",
       "    }\n",
       "\n",
       "    .dataframe thead th {\n",
       "        text-align: right;\n",
       "    }\n",
       "</style>\n",
       "<table border=\"1\" class=\"dataframe\">\n",
       "  <thead>\n",
       "    <tr style=\"text-align: right;\">\n",
       "      <th></th>\n",
       "      <th>Importance</th>\n",
       "    </tr>\n",
       "  </thead>\n",
       "  <tbody>\n",
       "    <tr>\n",
       "      <th>deznat</th>\n",
       "      <td>14.511216</td>\n",
       "    </tr>\n",
       "    <tr>\n",
       "      <th>life</th>\n",
       "      <td>12.086881</td>\n",
       "    </tr>\n",
       "    <tr>\n",
       "      <th>mormon</th>\n",
       "      <td>10.398273</td>\n",
       "    </tr>\n",
       "    <tr>\n",
       "      <th>away</th>\n",
       "      <td>9.242909</td>\n",
       "    </tr>\n",
       "    <tr>\n",
       "      <th>true</th>\n",
       "      <td>6.082431</td>\n",
       "    </tr>\n",
       "    <tr>\n",
       "      <th>ldzion</th>\n",
       "      <td>5.964757</td>\n",
       "    </tr>\n",
       "  </tbody>\n",
       "</table>\n",
       "</div>"
      ],
      "text/plain": [
       "        Importance\n",
       "deznat   14.511216\n",
       "life     12.086881\n",
       "mormon   10.398273\n",
       "away      9.242909\n",
       "true      6.082431\n",
       "ldzion    5.964757"
      ]
     },
     "execution_count": 21,
     "metadata": {},
     "output_type": "execute_result"
    }
   ],
   "source": [
    "# Importance\n",
    "Importance = pd.DataFrame({'Importance': clf.feature_importances_*100}, index= df_tfidf.columns)\n",
    "Importance = Importance.iloc[clf.feature_importances_ > 0,:]\n",
    "Importance = Importance.sort_values('Importance', axis=0, ascending=True)\n",
    "Importance.sort_values('Importance', axis=0, ascending=False)[1:7]"
   ]
  },
  {
   "cell_type": "code",
   "execution_count": 22,
   "metadata": {},
   "outputs": [
    {
     "data": {
      "text/plain": [
       "<matplotlib.axes._subplots.AxesSubplot at 0x179deb55588>"
      ]
     },
     "execution_count": 22,
     "metadata": {},
     "output_type": "execute_result"
    },
    {
     "data": {
      "image/png": "[encoded data removed]",
      "text/plain": [
       "<Figure size 432x288 with 1 Axes>"
      ]
     },
     "metadata": {
      "needs_background": "light"
     },
     "output_type": "display_data"
    }
   ],
   "source": [
    "import seaborn as sns\n",
    "sns.boxplot(x='label',y='score',data=df)"
   ]
  },
  {
   "cell_type": "code",
   "execution_count": 23,
   "metadata": {},
   "outputs": [
    {
     "data": {
      "text/html": [
       "<div>\n",
       "<style scoped>\n",
       "    .dataframe tbody tr th:only-of-type {\n",
       "        vertical-align: middle;\n",
       "    }\n",
       "\n",
       "    .dataframe tbody tr th {\n",
       "        vertical-align: top;\n",
       "    }\n",
       "\n",
       "    .dataframe thead th {\n",
       "        text-align: right;\n",
       "    }\n",
       "</style>\n",
       "<table border=\"1\" class=\"dataframe\">\n",
       "  <thead>\n",
       "    <tr style=\"text-align: right;\">\n",
       "      <th>sent_label</th>\n",
       "      <th>neg</th>\n",
       "      <th>pos</th>\n",
       "    </tr>\n",
       "    <tr>\n",
       "      <th>label</th>\n",
       "      <th></th>\n",
       "      <th></th>\n",
       "    </tr>\n",
       "  </thead>\n",
       "  <tbody>\n",
       "    <tr>\n",
       "      <th>neg</th>\n",
       "      <td>19</td>\n",
       "      <td>20</td>\n",
       "    </tr>\n",
       "    <tr>\n",
       "      <th>pos</th>\n",
       "      <td>2</td>\n",
       "      <td>59</td>\n",
       "    </tr>\n",
       "  </tbody>\n",
       "</table>\n",
       "</div>"
      ],
      "text/plain": [
       "sent_label  neg  pos\n",
       "label               \n",
       "neg          19   20\n",
       "pos           2   59"
      ]
     },
     "execution_count": 23,
     "metadata": {},
     "output_type": "execute_result"
    }
   ],
   "source": [
    "pd.crosstab(df['label'], df['sent_label'])"
   ]
  },
  {
   "cell_type": "code",
   "execution_count": 24,
   "metadata": {},
   "outputs": [
    {
     "data": {
      "text/plain": [
       "0.78"
      ]
     },
     "execution_count": 24,
     "metadata": {},
     "output_type": "execute_result"
    }
   ],
   "source": [
    "acc_sent = (19 + 59) / (19 + 59 + 2 + 20)\n",
    "acc_sent"
   ]
  },
  {
   "cell_type": "code",
   "execution_count": 25,
   "metadata": {},
   "outputs": [
    {
     "data": {
      "text/plain": [
       "{'SVM': 0.7878787878787878,\n",
       " 'Decision trees': 0.5757575757575758,\n",
       " 'Sentiment analysis': 0.78}"
      ]
     },
     "execution_count": 25,
     "metadata": {},
     "output_type": "execute_result"
    }
   ],
   "source": [
    "acc = {'SVM': acc_svm, \n",
    "       'Decision trees': acc_dt, \n",
    "       'Sentiment analysis': acc_sent}\n",
    "acc"
   ]
  }
 ],
 "metadata": {
  "kernelspec": {
   "display_name": "Python 3",
   "language": "python",
   "name": "python3"
  },
  "language_info": {
   "codemirror_mode": {
    "name": "ipython",
    "version": 3
   },
   "file_extension": ".py",
   "mimetype": "text/x-python",
   "name": "python",
   "nbconvert_exporter": "python",
   "pygments_lexer": "ipython3",
   "version": "3.7.3"
  }
 },
 "nbformat": 4,
 "nbformat_minor": 2
}
